{
 "cells": [
  {
   "cell_type": "code",
   "execution_count": null,
   "metadata": {},
   "outputs": [],
   "source": [
    "# sol\n",
    "\n",
    "def solution(record):\n",
    "    answer = []\n",
    "    id_nick = {}\n",
    "    \n",
    "    for line in record:\n",
    "        if line.split()[0] != 'Leave':\n",
    "            id_nick[line.split()[1]] = line.split()[2]\n",
    "    for line in record:\n",
    "        if line.split()[0] == 'Enter':\n",
    "            answer.append('{}님이 들어왔습니다.'.format(id_nick[line.split()[1]]))\n",
    "        elif line.split()[0] == 'Leave':\n",
    "            answer.append('{}님이 나갔습니다.'.format(id_nick[line.split()[1]]))\n",
    "            \n",
    "    return answer"
   ]
  }
 ],
 "metadata": {
  "language_info": {
   "name": "python"
  },
  "orig_nbformat": 4
 },
 "nbformat": 4,
 "nbformat_minor": 2
}
