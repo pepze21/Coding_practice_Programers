{
 "cells": [
  {
   "cell_type": "code",
   "execution_count": 1,
   "metadata": {},
   "outputs": [
    {
     "name": "stdout",
     "output_type": "stream",
     "text": [
      "[2, 1, 1, 0]\n"
     ]
    }
   ],
   "source": [
    "# 신고 결과 받기\n",
    "# 27분 + 문법 복습(구글링)\n",
    "\n",
    "def solution(id_list, report, k):\n",
    "    report_set = set(report)\n",
    "    report_cnts = [0 for i in range(len(id_list))]\n",
    "    \n",
    "    for one_report in report_set:\n",
    "        report_cnts[id_list.index(one_report.split()[1])] += 1\n",
    "    \n",
    "    banned_list = []\n",
    "    for (index, report_cnt) in enumerate(report_cnts):\n",
    "        if (report_cnt >= k):\n",
    "            banned_list.append(id_list[index])\n",
    "\n",
    "    emailed_cnts = [0 for i in range(len(id_list))]\n",
    "    for one_report in report_set:\n",
    "        ids = one_report.split()\n",
    "        if ids[1] in banned_list:\n",
    "            emailed_cnts[id_list.index(ids[0])] += 1\n",
    "    # print(report_set, report_cnts, banned_list, emailed_cnts)\n",
    "    return emailed_cnts\n",
    "\n",
    "def main():\n",
    "  id_list = [\"muzi\", \"frodo\", \"apeach\", \"neo\"]\n",
    "  report = [\"muzi frodo\", \"apeach frodo\", \"frodo neo\", \"muzi neo\", \"apeach muzi\"]\n",
    "  k = 2\n",
    "  print(solution(id_list, report, k))\n",
    "\n",
    "main()\n"
   ]
  },
  {
   "cell_type": "code",
   "execution_count": null,
   "metadata": {},
   "outputs": [],
   "source": []
  }
 ],
 "metadata": {
  "interpreter": {
   "hash": "b3ba2566441a7c06988d0923437866b63cedc61552a5af99d1f4fb67d367b25f"
  },
  "kernelspec": {
   "display_name": "Python 3.8.8 ('base')",
   "language": "python",
   "name": "python3"
  },
  "language_info": {
   "codemirror_mode": {
    "name": "ipython",
    "version": 3
   },
   "file_extension": ".py",
   "mimetype": "text/x-python",
   "name": "python",
   "nbconvert_exporter": "python",
   "pygments_lexer": "ipython3",
   "version": "3.8.8"
  },
  "orig_nbformat": 4
 },
 "nbformat": 4,
 "nbformat_minor": 2
}
