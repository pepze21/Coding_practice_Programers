{
 "cells": [
  {
   "cell_type": "code",
   "execution_count": null,
   "metadata": {},
   "outputs": [],
   "source": [
    "# 48분\n",
    "from collections import deque\n",
    "\n",
    "def metric(str1, str2):\n",
    "    count = 0\n",
    "    for i in range(len(str1)):\n",
    "        if str1[i] != str2[i]:\n",
    "            count += 1\n",
    "    return count\n",
    "\n",
    "def solution(begin, target, words):\n",
    "    edge = {word:[] for word in words}\n",
    "    edge[begin] = []\n",
    "    edge[target] = []\n",
    "    for word1 in edge.keys():\n",
    "        for word2 in edge.keys():\n",
    "            if metric(word1, word2) == 1:\n",
    "                edge[word1].append(word2)\n",
    "    if (target not in words) or (edge[target] == []):\n",
    "        return 0\n",
    "    visit = {key:0 for key in edge.keys()}\n",
    "    distance = 1\n",
    "    # bfs\n",
    "    q = deque([begin])\n",
    "    while q:\n",
    "        for i in range(len(q)):\n",
    "            v = q.popleft()\n",
    "            for word in edge[v]:\n",
    "                if target in edge[v]:\n",
    "                    print(v)\n",
    "                    print(edge[v])\n",
    "                    return distance\n",
    "                elif visit[word] == 0:\n",
    "                    visit[word] = 1\n",
    "                    q.append(word)\n",
    "        distance += 1\n",
    "    return 0"
   ]
  }
 ],
 "metadata": {
  "language_info": {
   "name": "python"
  },
  "orig_nbformat": 4
 },
 "nbformat": 4,
 "nbformat_minor": 2
}
