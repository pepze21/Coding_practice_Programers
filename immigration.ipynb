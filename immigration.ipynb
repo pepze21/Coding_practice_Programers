{
 "cells": [
  {
   "cell_type": "code",
   "execution_count": null,
   "metadata": {},
   "outputs": [],
   "source": [
    "# 19:32 19:45 코딩시작 20:21끝 #시간초과\n",
    "from math import ceil\n",
    "from math import floor\n",
    "\n",
    "def solution(n, times):\n",
    "    nums = [0 for i in range(len(times))]\n",
    "    speeds = []\n",
    "    for time in times:\n",
    "        speeds.append(1/time)\n",
    "    bottom = n / sum(speeds)\n",
    "    \n",
    "    real_times = [0 for i in range(len(times))]\n",
    "    real_times2 = [0 for i in range(len(times))]\n",
    "    for i in range(len(times)):\n",
    "        nums[i] = floor(bottom / times[i]) #최소 명수\n",
    "        real_times[i] = nums[i] * times[i]\n",
    "        real_times2[i] = real_times[i] + times[i]\n",
    "    count = sum(nums)\n",
    "    \n",
    "    while count < n:\n",
    "        index = real_times2.index(min(real_times2))\n",
    "        real_times[index] = real_times2[index]\n",
    "        for i in range(len(times)):\n",
    "            real_times2[i] = real_times[i] + times[i]\n",
    "        count += 1\n",
    "    \n",
    "    return max(real_times)"
   ]
  }
 ],
 "metadata": {
  "language_info": {
   "name": "python"
  },
  "orig_nbformat": 4
 },
 "nbformat": 4,
 "nbformat_minor": 2
}
