{
 "cells": [
  {
   "cell_type": "code",
   "execution_count": 1,
   "metadata": {},
   "outputs": [
    {
     "name": "stdout",
     "output_type": "stream",
     "text": [
      "3\n",
      "[1, 2]\n"
     ]
    }
   ],
   "source": [
    "q = [1, 2, 3]\n",
    "print(q.pop())\n",
    "print(q)"
   ]
  },
  {
   "cell_type": "code",
   "execution_count": 13,
   "metadata": {},
   "outputs": [
    {
     "data": {
      "text/plain": [
       "[1, 2, 3]"
      ]
     },
     "execution_count": 13,
     "metadata": {},
     "output_type": "execute_result"
    }
   ],
   "source": [
    "from collections import deque\n",
    "\n",
    "q = deque([1, 2, 3])\n",
    "q\n",
    "\n",
    "list = []\n",
    "\n",
    "for i in range(len(q)):\n",
    "    list.append(q.popleft())\n",
    "\n",
    "list"
   ]
  },
  {
   "cell_type": "code",
   "execution_count": 20,
   "metadata": {},
   "outputs": [],
   "source": [
    "\n",
    "def plus(a, b):\n",
    "    return (a[0] + b[0], a[1] + b[1])\n",
    "def minus(a, b):\n",
    "    return (a[0] - b[0], a[1] + b[1])\n",
    "def multiple(a, b):\n",
    "    return (a[0] * b[0], a[1] + b[1])\n",
    "def divide(a, b):\n",
    "    return (a[0] // b[0], a[1] + b[1])\n",
    "\n",
    "\n",
    "def solution(N, number):\n",
    "    values = {(N*1, 1)}\n",
    "    if N == number:\n",
    "        return 1\n",
    "    \n",
    "    for a in values:\n",
    "        for b in values:\n",
    "            values.add(plus(a, b))\n",
    "            values.add(minus(a, b))\n",
    "            values.add(multiple(a, b))\n",
    "            if b[0] != 0:\n",
    "                values.add(divide(a, b))\n",
    "        for value in values:\n",
    "            if value[0] == number:\n",
    "                if value[1] <=8:\n",
    "                    return value[1]\n",
    "                else:\n",
    "                    return -1\n",
    "\n",
    "    values.add((N*11, 2))\n",
    "\n",
    "\n",
    "    for a in values:\n",
    "        for b in values:\n",
    "            values.add(plus(a, b))\n",
    "            values.add(minus(a, b))\n",
    "            values.add(multiple(a, b))\n",
    "            if b[0] != 0:\n",
    "                values.add(divide(a, b))\n",
    "        for value in values:\n",
    "            if value[0] == number:\n",
    "                if value[1] <=8:\n",
    "                    return value[1]\n",
    "                else:\n",
    "                    return -1\n",
    "    values.add((N*111, 3))\n",
    "    values.add((N*1111, 4))\n",
    "    \n",
    "    for a in values:\n",
    "        for b in values:\n",
    "            values.add(plus(a, b))\n",
    "            values.add(minus(a, b))\n",
    "            values.add(multiple(a, b))\n",
    "            if b[0] != 0:\n",
    "                values.add(divide(a, b))\n",
    "        for value in values:\n",
    "            if value[0] == number:\n",
    "                if value[1] <=8:\n",
    "                    return value[1]\n",
    "                else:\n",
    "                    return -1\n",
    "    values.add((N*11111, 5))\n",
    "    values.add((N*111111, 6))\n",
    "    values.add((N*1111111, 70))\n",
    "    values.add((N*11111111, 8))\n",
    "    for value in values:\n",
    "        if value[0] == number:\n",
    "            if value[1] <=8:\n",
    "                return value[1]\n",
    "            else:\n",
    "                return -1"
   ]
  },
  {
   "cell_type": "code",
   "execution_count": 1,
   "metadata": {},
   "outputs": [
    {
     "ename": "TypeError",
     "evalue": "unhashable type: 'list'",
     "output_type": "error",
     "traceback": [
      "\u001b[1;31m---------------------------------------------------------------------------\u001b[0m",
      "\u001b[1;31mTypeError\u001b[0m                                 Traceback (most recent call last)",
      "\u001b[1;32m<ipython-input-1-c058a8c3129d>\u001b[0m in \u001b[0;36m<module>\u001b[1;34m\u001b[0m\n\u001b[1;32m----> 1\u001b[1;33m \u001b[0mset1\u001b[0m \u001b[1;33m=\u001b[0m \u001b[1;33m{\u001b[0m\u001b[1;36m1\u001b[0m\u001b[1;33m,\u001b[0m \u001b[1;36m2\u001b[0m\u001b[1;33m,\u001b[0m \u001b[1;36m3\u001b[0m\u001b[1;33m,\u001b[0m \u001b[1;33m[\u001b[0m\u001b[1;36m1\u001b[0m\u001b[1;33m,\u001b[0m \u001b[1;36m2\u001b[0m\u001b[1;33m,\u001b[0m \u001b[1;36m3\u001b[0m\u001b[1;33m]\u001b[0m\u001b[1;33m}\u001b[0m\u001b[1;33m\u001b[0m\u001b[1;33m\u001b[0m\u001b[0m\n\u001b[0m",
      "\u001b[1;31mTypeError\u001b[0m: unhashable type: 'list'"
     ]
    }
   ],
   "source": [
    "set1 = {1, 2, 3, [1, 2, 3]}"
   ]
  },
  {
   "cell_type": "code",
   "execution_count": 21,
   "metadata": {},
   "outputs": [],
   "source": [
    "\n",
    "from copy import copy\n",
    "\n",
    "def plus(a, b):\n",
    "    return (a[0] + b[0], a[1] + b[1])\n",
    "def minus(a, b):\n",
    "    return (a[0] - b[0], a[1] + b[1])\n",
    "def multiple(a, b):\n",
    "    return (a[0] * b[0], a[1] + b[1])\n",
    "def divide(a, b):\n",
    "    return (a[0] // b[0], a[1] + b[1])\n",
    "\n",
    "\n",
    "def solution(N, number):\n",
    "    values = {(N*1, 1)}\n",
    "    if N == number:\n",
    "        return 1\n",
    "    \n",
    "    temp = copy(values)\n",
    "    for a in values:\n",
    "        for b in values:\n",
    "            temp.add(plus(a, b))\n",
    "            temp.add(minus(a, b))\n",
    "            temp.add(multiple(a, b))\n",
    "            if b[0] != 0:\n",
    "                temp.add(divide(a, b))\n",
    "        for value in temp:\n",
    "            if value[0] == number:\n",
    "                if value[1] <=8:\n",
    "                    return value[1]\n",
    "                else:\n",
    "                    return -1\n",
    "    temp.add((N*11, 2))\n",
    "\n",
    "    values = copy(temp)\n",
    "    for a in values:\n",
    "        for b in values:\n",
    "            temp.add(plus(a, b))\n",
    "            temp.add(minus(a, b))\n",
    "            temp.add(multiple(a, b))\n",
    "            if b[0] != 0:\n",
    "                temp.add(divide(a, b))\n",
    "        for value in temp:\n",
    "            if value[0] == number:\n",
    "                if value[1] <=8:\n",
    "                    return value[1]\n",
    "                else:\n",
    "                    return -1\n",
    "    temp.add((N*111, 3))\n",
    "    temp.add((N*1111, 4))\n",
    "    \n",
    "    values = copy(temp)\n",
    "    for a in values:\n",
    "        for b in values:\n",
    "            temp.add(plus(a, b))\n",
    "            temp.add(minus(a, b))\n",
    "            temp.add(multiple(a, b))\n",
    "            if b[0] != 0:\n",
    "                temp.add(divide(a, b))\n",
    "        for value in temp:\n",
    "            if value[0] == number:\n",
    "                if value[1] <=8:\n",
    "                    return value[1]\n",
    "                else:\n",
    "                    return -1\n",
    "    temp.add((N*11111, 5))\n",
    "    temp.add((N*111111, 6))\n",
    "    temp.add((N*1111111, 7))\n",
    "    temp.add((N*11111111, 8))\n",
    "    for value in values:\n",
    "        if value[0] == number:\n",
    "            if value[1] <=8:\n",
    "                return value[1]\n",
    "            else:\n",
    "                return -1"
   ]
  },
  {
   "cell_type": "code",
   "execution_count": null,
   "metadata": {},
   "outputs": [],
   "source": []
  }
 ],
 "metadata": {
  "interpreter": {
   "hash": "b3ba2566441a7c06988d0923437866b63cedc61552a5af99d1f4fb67d367b25f"
  },
  "kernelspec": {
   "display_name": "Python 3.8.8 64-bit ('base': conda)",
   "language": "python",
   "name": "python3"
  },
  "language_info": {
   "codemirror_mode": {
    "name": "ipython",
    "version": 3
   },
   "file_extension": ".py",
   "mimetype": "text/x-python",
   "name": "python",
   "nbconvert_exporter": "python",
   "pygments_lexer": "ipython3",
   "version": "3.8.8"
  },
  "orig_nbformat": 4
 },
 "nbformat": 4,
 "nbformat_minor": 2
}
