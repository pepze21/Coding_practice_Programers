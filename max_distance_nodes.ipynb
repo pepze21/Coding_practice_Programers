{
 "cells": [
  {
   "cell_type": "code",
   "execution_count": null,
   "metadata": {},
   "outputs": [],
   "source": [
    "# 25분 #테스트셋 30%정도 시간초과...\n",
    "from collections import deque\n",
    "\n",
    "def solution(n, edge):\n",
    "    matrix = [[0 for i in range(n + 1)] for i in range(n + 1)]\n",
    "    for e in edge:\n",
    "        matrix[e[0]][e[1]] = 1\n",
    "        matrix[e[1]][e[0]] = 1\n",
    "    \n",
    "    # bfs\n",
    "    q = deque([1])\n",
    "    visit = [0 for i in range(n + 1)]\n",
    "    visit[1] = 1\n",
    "    distances = [0 for i in range(n + 1)]\n",
    "    distance = 1\n",
    "    \n",
    "    while q:\n",
    "        for i in range(len(q)):\n",
    "            v = q.popleft()\n",
    "\n",
    "            for i in range(1, n + 1):\n",
    "                if (matrix[v][i] == 1) and (visit[i] == 0):\n",
    "                    distances[i] = distance\n",
    "                    q.append(i)\n",
    "                    visit[i] = 1\n",
    "        distance += 1\n",
    "    \n",
    "    answer = distances[2:].count(max(distances[2:]))\n",
    "    \n",
    "    return answer"
   ]
  },
  {
   "cell_type": "code",
   "execution_count": null,
   "metadata": {},
   "outputs": [],
   "source": [
    "# 25분 #마찬가지로 시간초과..\n",
    "from collections import deque\n",
    "import collections\n",
    "\n",
    "def solution(n, edge):\n",
    "    dict_edge = {i : [] for i in range(1, n + 1)}\n",
    "    for e in edge:\n",
    "        dict_edge[e[0]].append(e[1])\n",
    "        dict_edge[e[1]].append(e[0])\n",
    "    \n",
    "    # bfs\n",
    "    q = deque([1])\n",
    "    visit = [0 for i in range(n + 1)]\n",
    "    visit[1] = 1\n",
    "    distances = [0 for i in range(n + 1)]\n",
    "    distance = 1\n",
    "    \n",
    "    while q:\n",
    "        for i in range(len(q)):\n",
    "            v = q.popleft()\n",
    "    \n",
    "            for i in range(1, n + 1):\n",
    "                if (i in dict_edge[v]) and (visit[i] == 0):\n",
    "                    distances[i] = distance\n",
    "                    q.append(i)\n",
    "                    visit[i] = 1\n",
    "        distance += 1\n",
    "    \n",
    "    answer = distances[2:].count(max(distances[2:]))\n",
    "   \n",
    "    return answer\n"
   ]
  }
 ],
 "metadata": {
  "interpreter": {
   "hash": "b3ba2566441a7c06988d0923437866b63cedc61552a5af99d1f4fb67d367b25f"
  },
  "kernelspec": {
   "display_name": "Python 3.8.8 64-bit ('base': conda)",
   "language": "python",
   "name": "python3"
  },
  "language_info": {
   "name": "python",
   "version": "3.8.8"
  },
  "orig_nbformat": 4
 },
 "nbformat": 4,
 "nbformat_minor": 2
}
