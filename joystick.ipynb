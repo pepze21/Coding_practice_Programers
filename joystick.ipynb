{
 "cells": [
  {
   "cell_type": "code",
   "execution_count": 2,
   "metadata": {},
   "outputs": [
    {
     "name": "stdout",
     "output_type": "stream",
     "text": [
      "56\n"
     ]
    }
   ],
   "source": [
    "# 18:00 -> 1시간 10분\n",
    "\n",
    "def rightAcount(name):\n",
    "    count = 0\n",
    "    name_list = [name[i] for i in range(len(name))]\n",
    "    name_list.pop(0)\n",
    "    if name_list == []:\n",
    "        return count\n",
    "    for i in range(len(name_list)):\n",
    "        if name_list[0] == 'A':\n",
    "            name_list.pop(0)\n",
    "            count +=1\n",
    "        else:\n",
    "            break\n",
    "    return count\n",
    "def leftAcount(name):\n",
    "    count = 0\n",
    "    name_list = [name[i] for i in range(len(name))]\n",
    "    name_list.pop()\n",
    "    if name_list == []:\n",
    "        return count\n",
    "    for i in range(len(name_list)):\n",
    "        if name_list[-1] == 'A':\n",
    "            name_list.pop()\n",
    "            count +=1\n",
    "        else:\n",
    "            break\n",
    "    return count\n",
    "\n",
    "def solution(name):\n",
    "    num = 0\n",
    "    alphabets = 'ABCDEFGHIJKLMNOPQRSTUVWXYZ'\n",
    "    alp_list = [alphabets[i] for i in range(26)]\n",
    "    alp_forward_list = alp_list[1:14]\n",
    "    alp_backward_list = alp_list[14:]\n",
    "    alp_backward_list.reverse()\n",
    "    \n",
    "    if leftAcount(name) >= rightAcount(name): #정방향\n",
    "        for i in range(len(name)):\n",
    "            for j in range(len(alp_forward_list)):\n",
    "                if alp_forward_list[j] == name[i]:\n",
    "                    num = num + j + 1\n",
    "            for j in range(len(alp_backward_list)):\n",
    "                if alp_backward_list[j] == name[i]:\n",
    "                    num = num + j + 1                    \n",
    "        num = num + len(name) - 1 - leftAcount(name)\n",
    "        \n",
    "    else: #역방향\n",
    "        for i in range(len(name)):\n",
    "            for j in range(len(alp_forward_list)):\n",
    "                if alp_forward_list[j] == name[i]:\n",
    "                    num = num + j + 1\n",
    "            for j in range(len(alp_backward_list)):\n",
    "                if alp_backward_list[j] == name[i]:\n",
    "                    num = num + j + 1                    \n",
    "        num = num + len(name) - 1 - rightAcount(name)\n",
    "           \n",
    "    return num\n",
    "\n",
    "print(solution('JEROEN'))"
   ]
  },
  {
   "cell_type": "code",
   "execution_count": 1,
   "metadata": {},
   "outputs": [
    {
     "ename": "AttributeError",
     "evalue": "'str' object has no attribute 'pop'",
     "output_type": "error",
     "traceback": [
      "\u001b[1;31m---------------------------------------------------------------------------\u001b[0m",
      "\u001b[1;31mAttributeError\u001b[0m                            Traceback (most recent call last)",
      "\u001b[1;32m<ipython-input-1-0da02784955f>\u001b[0m in \u001b[0;36m<module>\u001b[1;34m\u001b[0m\n\u001b[1;32m----> 1\u001b[1;33m \u001b[1;34m'111'\u001b[0m\u001b[1;33m.\u001b[0m\u001b[0mpop\u001b[0m\u001b[1;33m(\u001b[0m\u001b[1;33m)\u001b[0m\u001b[1;33m\u001b[0m\u001b[1;33m\u001b[0m\u001b[0m\n\u001b[0m",
      "\u001b[1;31mAttributeError\u001b[0m: 'str' object has no attribute 'pop'"
     ]
    }
   ],
   "source": [
    "'111'.pop()"
   ]
  }
 ],
 "metadata": {
  "interpreter": {
   "hash": "b3ba2566441a7c06988d0923437866b63cedc61552a5af99d1f4fb67d367b25f"
  },
  "kernelspec": {
   "display_name": "Python 3.8.8 64-bit ('base': conda)",
   "language": "python",
   "name": "python3"
  },
  "language_info": {
   "codemirror_mode": {
    "name": "ipython",
    "version": 3
   },
   "file_extension": ".py",
   "mimetype": "text/x-python",
   "name": "python",
   "nbconvert_exporter": "python",
   "pygments_lexer": "ipython3",
   "version": "3.8.8"
  },
  "orig_nbformat": 4
 },
 "nbformat": 4,
 "nbformat_minor": 2
}
