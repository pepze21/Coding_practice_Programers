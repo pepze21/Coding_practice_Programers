{
 "cells": [
  {
   "cell_type": "code",
   "execution_count": null,
   "metadata": {},
   "outputs": [],
   "source": [
    "# 31분 #시간초과\n",
    "\n",
    "count = 0\n",
    "\n",
    "def go(grid, i, j, m, n):\n",
    "    global count\n",
    "    if (i == m) and (j == n):\n",
    "        count += 1\n",
    "    if i + 1 <= m:\n",
    "        if grid[j][i + 1] == 0:\n",
    "            go(grid, i + 1, j, m, n)\n",
    "    if j + 1 <= n:\n",
    "        if grid[j + 1][i] == 0:\n",
    "            go(grid, i, j + 1, m, n)\n",
    "    \n",
    "def solution(m, n, puddles):\n",
    "    #0 = 뚫림, 1 막힘(못감)\n",
    "    grid = [[0 for i in range(m + 1)] for j in range(n + 1)]\n",
    "    for puddle in puddles:\n",
    "        grid[puddle[1]][puddle[0]] = 1\n",
    "    \n",
    "    go(grid, 1, 1, m, n)\n",
    "    \n",
    "    return count"
   ]
  }
 ],
 "metadata": {
  "language_info": {
   "name": "python"
  },
  "orig_nbformat": 4
 },
 "nbformat": 4,
 "nbformat_minor": 2
}
