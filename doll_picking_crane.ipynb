{
 "cells": [
  {
   "cell_type": "code",
   "execution_count": 1,
   "metadata": {},
   "outputs": [
    {
     "name": "stdout",
     "output_type": "stream",
     "text": [
      "4\n"
     ]
    }
   ],
   "source": [
    "# 인형이 없는 곳에서 크레인을 작동시키는 경우에는 아무런 일도 일어나지 않습니다.\n",
    "\n",
    "def solution(board, moves):\n",
    "    board_size = len(board)\n",
    "    board_column_stack =  [[] for i in range(board_size)]\n",
    "    \n",
    "    for floor in reversed(board):\n",
    "        for j in range(board_size):\n",
    "            if (floor[j] != 0):\n",
    "                board_column_stack[j].append(floor[j])\n",
    "                \n",
    "    basket_stack = []\n",
    "    answer = 0\n",
    "    for move in moves:\n",
    "        column = board_column_stack[move - 1]\n",
    "        if (column != []):\n",
    "            doll = column.pop()\n",
    "            if (basket_stack != [] and doll == basket_stack[-1]):\n",
    "                basket_stack.pop()\n",
    "                answer += 2\n",
    "            else:\n",
    "                basket_stack.append(doll)\n",
    "    return answer\n",
    "\n",
    "def main():\n",
    "  board = [[0, 0, 0, 0, 0],\n",
    "           [0, 0, 1, 0, 3],\n",
    "           [0, 2, 5, 0, 1],\n",
    "           [4, 2, 4, 4, 2],\n",
    "           [3, 5, 1, 3, 1]]\n",
    "  moves = [1, 5, 3, 5, 1, 2, 1, 4]\n",
    "  print(solution(board, moves))\n",
    "\n",
    "main()"
   ]
  }
 ],
 "metadata": {
  "interpreter": {
   "hash": "b3ba2566441a7c06988d0923437866b63cedc61552a5af99d1f4fb67d367b25f"
  },
  "kernelspec": {
   "display_name": "Python 3.8.8 ('base')",
   "language": "python",
   "name": "python3"
  },
  "language_info": {
   "codemirror_mode": {
    "name": "ipython",
    "version": 3
   },
   "file_extension": ".py",
   "mimetype": "text/x-python",
   "name": "python",
   "nbconvert_exporter": "python",
   "pygments_lexer": "ipython3",
   "version": "3.8.8"
  },
  "orig_nbformat": 4
 },
 "nbformat": 4,
 "nbformat_minor": 2
}
