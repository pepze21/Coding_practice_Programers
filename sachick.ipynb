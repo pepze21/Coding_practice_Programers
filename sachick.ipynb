{
 "cells": [
  {
   "cell_type": "code",
   "execution_count": 1,
   "metadata": {},
   "outputs": [
    {
     "name": "stdout",
     "output_type": "stream",
     "text": [
      "4\n"
     ]
    }
   ],
   "source": [
    "# 50분 걸림...\n",
    "# N : digit\n",
    "# number : 만들고자하는 number\n",
    "# 사칙연산을 이용해서 N을 몇번 사용해야 number를 만들 수 있는가? (최소값 구하기)\n",
    "\n",
    "from copy import copy\n",
    "\n",
    "def plus(a, b):\n",
    "    return (a[0] + b[0], a[1] + b[1])\n",
    "def minus(a, b):\n",
    "    return (a[0] - b[0], a[1] + b[1])\n",
    "def multiple(a, b):\n",
    "    return (a[0] * b[0], a[1] + b[1])\n",
    "def divide(a, b):\n",
    "    return (a[0] // b[0], a[1] + b[1])\n",
    "\n",
    "\n",
    "def solution(N, number):\n",
    "    values = {(N*1, 1)}\n",
    "    \n",
    "    if N == number:\n",
    "        return 1\n",
    "    temp = copy(values)\n",
    "    temp.add((N*11, 2))\n",
    "    temp.add((N*111, 3))\n",
    "    temp.add((N*1111, 4))\n",
    "    temp.add((N*11111, 5))\n",
    "    temp.add((N*111111, 6))\n",
    "    temp.add((N*1111111, 7))\n",
    "    temp.add((N*11111111, 8))\n",
    "    minimum = 9\n",
    "    \n",
    "    for a in values:\n",
    "        for b in values:\n",
    "            temp.add(plus(a, b))\n",
    "            temp.add(minus(a, b))\n",
    "            temp.add(multiple(a, b))\n",
    "            if b[0] != 0:\n",
    "                temp.add(divide(a, b))\n",
    "        for value in temp:\n",
    "            if value[0] == number:\n",
    "                if value[1] <=8:\n",
    "                    minimum = min(value[1], minimum)\n",
    "    if minimum < 3:\n",
    "        return minimum\n",
    "\n",
    "    values = copy(temp)\n",
    "    for a in values:\n",
    "        for b in values:\n",
    "            temp.add(plus(a, b))\n",
    "            temp.add(minus(a, b))\n",
    "            temp.add(multiple(a, b))\n",
    "            if b[0] != 0:\n",
    "                temp.add(divide(a, b))\n",
    "        for value in temp:\n",
    "            if value[0] == number:\n",
    "                if value[1] <=8:\n",
    "                    minimum = min(value[1], minimum)\n",
    "    if minimum < 4:\n",
    "        return minimum\n",
    "    \n",
    "    values = copy(temp)\n",
    "    for a in values:\n",
    "        for b in values:\n",
    "            temp.add(plus(a, b))\n",
    "            temp.add(minus(a, b))\n",
    "            temp.add(multiple(a, b))\n",
    "            if b[0] != 0:\n",
    "                temp.add(divide(a, b))\n",
    "        for value in temp:\n",
    "            if value[0] == number:\n",
    "                if value[1] <=8:\n",
    "                    minimum = min(value[1], minimum)\n",
    "    if minimum <= 8:\n",
    "        return minimum\n",
    "    else:\n",
    "        return -1\n",
    "\n",
    "print(solution(5, 12))"
   ]
  },
  {
   "cell_type": "code",
   "execution_count": null,
   "metadata": {},
   "outputs": [],
   "source": []
  }
 ],
 "metadata": {
  "interpreter": {
   "hash": "b3ba2566441a7c06988d0923437866b63cedc61552a5af99d1f4fb67d367b25f"
  },
  "kernelspec": {
   "display_name": "Python 3.8.8 64-bit ('base': conda)",
   "language": "python",
   "name": "python3"
  },
  "language_info": {
   "codemirror_mode": {
    "name": "ipython",
    "version": 3
   },
   "file_extension": ".py",
   "mimetype": "text/x-python",
   "name": "python",
   "nbconvert_exporter": "python",
   "pygments_lexer": "ipython3",
   "version": "3.8.8"
  },
  "orig_nbformat": 4
 },
 "nbformat": 4,
 "nbformat_minor": 2
}
