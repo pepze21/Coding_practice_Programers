{
 "cells": [
  {
   "cell_type": "code",
   "execution_count": null,
   "metadata": {},
   "outputs": [],
   "source": [
    "# 1시간 15분 #시간초과\n",
    "\n",
    "from collections import deque\n",
    "\n",
    "def solution(n, results):\n",
    "    rank = [0 for i in range(n + 1)]\n",
    "    rank[0] = n + 1\n",
    "    \n",
    "    edge_win = {i:[] for i in range(1, n + 1)}\n",
    "    for result in results:\n",
    "        edge_win[result[0]].append(result[1])\n",
    "    edge_lose = {i:[] for i in range(1, n + 1)}\n",
    "    for result in results:\n",
    "        edge_lose[result[1]].append(result[0])\n",
    "    \n",
    "    ext_edge_win = {i:[] for i in range(1, n + 1)}\n",
    "    ext_edge_lose = {i:[] for i in range(1, n + 1)}\n",
    "    \n",
    "    for i in range(1, n + 1):\n",
    "        set_temp = set()\n",
    "        q = deque([i])\n",
    "        while q:\n",
    "            v = q.popleft()\n",
    "            for j in edge_win[v]:\n",
    "                q.append(j)\n",
    "                set_temp.add(j)\n",
    "        ext_edge_win[i] = list(set_temp)\n",
    "        \n",
    "    for i in range(1, n + 1):\n",
    "        set_temp = set()\n",
    "        q = deque([i])\n",
    "        while q:\n",
    "            v = q.popleft()\n",
    "            for j in edge_lose[v]:\n",
    "                q.append(j)\n",
    "                set_temp.add(j)\n",
    "        ext_edge_lose[i] = list(set_temp)\n",
    "    \n",
    "    count = 0\n",
    "    \n",
    "    for i in range(1, n + 1):\n",
    "        if len(ext_edge_win[i]) + len(ext_edge_lose[i]) == n - 1:\n",
    "            count +=1\n",
    "    \n",
    "    return count"
   ]
  }
 ],
 "metadata": {
  "language_info": {
   "name": "python"
  },
  "orig_nbformat": 4
 },
 "nbformat": 4,
 "nbformat_minor": 2
}
