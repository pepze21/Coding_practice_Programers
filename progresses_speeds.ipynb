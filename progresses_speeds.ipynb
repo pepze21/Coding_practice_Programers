{
 "cells": [
  {
   "cell_type": "code",
   "execution_count": null,
   "metadata": {},
   "outputs": [],
   "source": [
    "# 14:20 ~ 14:47\n",
    "\n",
    "def least_int(remain, speed):\n",
    "    if remain % speed == 0:\n",
    "        return remain // speed\n",
    "    else:\n",
    "        return (remain // speed) + 1\n",
    "\n",
    "\n",
    "def solution(progresses, speeds):\n",
    "    remain_progresses = [100 - x for x in progresses]\n",
    "    remain_day = [least_int(remain_progresses[i], speeds[i]) for i in range(len(progresses))]\n",
    "    remain_day.append(100)\n",
    "    max = remain_day.pop(0)\n",
    "    count = 1\n",
    "    answer = []\n",
    "    for i in range(len(remain_day)):\n",
    "        temp = remain_day.pop(0)\n",
    "        if temp > max:\n",
    "            answer.append(count)\n",
    "            max = temp\n",
    "            count = 1\n",
    "        elif temp <= max:\n",
    "            count +=1\n",
    "    return answer\n",
    "\n",
    "print(solution([93, 30, 55], [1, 30, 5]))"
   ]
  },
  {
   "cell_type": "code",
   "execution_count": null,
   "metadata": {},
   "outputs": [],
   "source": []
  }
 ],
 "metadata": {
  "interpreter": {
   "hash": "b3ba2566441a7c06988d0923437866b63cedc61552a5af99d1f4fb67d367b25f"
  },
  "kernelspec": {
   "display_name": "Python 3.8.8 64-bit ('base': conda)",
   "language": "python",
   "name": "python3"
  },
  "language_info": {
   "name": "python",
   "version": "3.8.8"
  },
  "orig_nbformat": 4
 },
 "nbformat": 4,
 "nbformat_minor": 2
}
