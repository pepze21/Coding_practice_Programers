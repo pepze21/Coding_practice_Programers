{
 "cells": [
  {
   "cell_type": "code",
   "execution_count": 1,
   "id": "3fd46946",
   "metadata": {},
   "outputs": [
    {
     "ename": "NameError",
     "evalue": "name 'root' is not defined",
     "output_type": "error",
     "traceback": [
      "\u001b[1;31m---------------------------------------------------------------------------\u001b[0m",
      "\u001b[1;31mNameError\u001b[0m                                 Traceback (most recent call last)",
      "\u001b[1;32m<ipython-input-1-7da63e9decf9>\u001b[0m in \u001b[0;36m<module>\u001b[1;34m\u001b[0m\n\u001b[0;32m      1\u001b[0m \u001b[1;32mfrom\u001b[0m \u001b[0mcollections\u001b[0m \u001b[1;32mimport\u001b[0m \u001b[0mdeque\u001b[0m\u001b[1;33m\u001b[0m\u001b[1;33m\u001b[0m\u001b[0m\n\u001b[1;32m----> 2\u001b[1;33m \u001b[0mqueue\u001b[0m \u001b[1;33m=\u001b[0m \u001b[0mdeque\u001b[0m\u001b[1;33m(\u001b[0m\u001b[1;33m[\u001b[0m\u001b[0mroot\u001b[0m\u001b[1;33m]\u001b[0m\u001b[1;33m)\u001b[0m\u001b[1;33m\u001b[0m\u001b[1;33m\u001b[0m\u001b[0m\n\u001b[0m",
      "\u001b[1;31mNameError\u001b[0m: name 'root' is not defined"
     ]
    }
   ],
   "source": [
    "from collections import deque\n",
    "queue = deque([root])"
   ]
  },
  {
   "cell_type": "code",
   "execution_count": 22,
   "id": "fe5b17bd",
   "metadata": {
    "scrolled": false
   },
   "outputs": [
    {
     "name": "stdout",
     "output_type": "stream",
     "text": [
      "0 4 0\n",
      "       : 1 4 0\n",
      "1 3 0\n",
      "       : 2 3 0\n",
      "2 2 0\n",
      "       : 3 2 0\n",
      "3 1 0\n",
      "       : 4 1 0\n",
      "4 0 0\n",
      "       : 5 0 0\n",
      "4 -1 0\n",
      "       : 3 -1 0\n",
      "4 0 0\n",
      "       : 3 0 0\n",
      "3 1 1\n",
      "       : 2 1 1\n",
      "2 0 1\n",
      "       : 3 0 1\n",
      "2 -1 2\n",
      "       : 1 -1 2\n",
      "2 2 2\n",
      "       : 1 2 2\n",
      "1 1 2\n",
      "       : 2 1 2\n",
      "2 0 2\n",
      "       : 3 0 2\n",
      "2 -1 3\n",
      "       : 1 -1 3\n",
      "2 0 3\n",
      "       : 1 0 3\n",
      "1 3 3\n",
      "       : 0 3 3\n",
      "0 2 3\n",
      "       : 1 2 3\n",
      "1 1 3\n",
      "       : 2 1 3\n",
      "2 0 3\n",
      "       : 3 0 3\n",
      "2 -1 4\n",
      "       : 1 -1 4\n",
      "2 0 4\n",
      "       : 1 0 4\n",
      "1 1 4\n",
      "       : 0 1 4\n",
      "0 0 4\n",
      "       : 1 0 4\n",
      "0 -1 4\n",
      "       : -1 -1 4\n",
      "4\n"
     ]
    }
   ],
   "source": [
    "# 21:27 start\n",
    "\n",
    "count = 0\n",
    "\n",
    "def add(sum, numbers, countdown, target):\n",
    "    global count\n",
    "    if countdown > -1:\n",
    "        for sign in [1, -1]:\n",
    "            print(sum, countdown, count)\n",
    "            sum += sign*numbers[countdown]\n",
    "            print('       :', sum, countdown, count)\n",
    "            countdown -= 1\n",
    "            if countdown == -1:\n",
    "                if sum == target:\n",
    "                    count +=1\n",
    "                sum -= sign*numbers[countdown]\n",
    "            add(sum, numbers, countdown, target)\n",
    "    countdown += 1\n",
    "    if countdown == len(numbers)-1:\n",
    "        pass\n",
    "def solution(numbers, target):\n",
    "    global count    \n",
    "    add(0, numbers, len(numbers)-1, target)\n",
    "    return count\n",
    "\n",
    "print(solution([1, 1, 1, 1, 1], 3))"
   ]
  },
  {
   "cell_type": "code",
   "execution_count": 10,
   "id": "fa26231f",
   "metadata": {},
   "outputs": [
    {
     "name": "stdout",
     "output_type": "stream",
     "text": [
      "1\n",
      "1\n",
      "1\n",
      "1\n",
      "1\n",
      "1\n",
      "1\n",
      "1\n",
      "1\n",
      "1\n",
      "1\n",
      "1\n",
      "1\n",
      "1\n",
      "1\n",
      "1\n",
      "1\n",
      "1\n",
      "1\n",
      "1\n",
      "1\n",
      "1\n",
      "1\n",
      "1\n",
      "1\n",
      "None\n"
     ]
    }
   ],
   "source": [
    "print(add(0, [1, 1, 1, 1, 1], len([1, 1, 1, 1, 1])-1, 3, 0))"
   ]
  },
  {
   "cell_type": "code",
   "execution_count": null,
   "id": "cd0312a0",
   "metadata": {},
   "outputs": [],
   "source": []
  },
  {
   "cell_type": "code",
   "execution_count": null,
   "id": "2e7182ca",
   "metadata": {},
   "outputs": [],
   "source": []
  },
  {
   "cell_type": "code",
   "execution_count": null,
   "id": "3158ff9d",
   "metadata": {},
   "outputs": [],
   "source": []
  },
  {
   "cell_type": "code",
   "execution_count": null,
   "id": "38e681af",
   "metadata": {},
   "outputs": [],
   "source": []
  }
 ],
 "metadata": {
  "kernelspec": {
   "display_name": "Python 3",
   "language": "python",
   "name": "python3"
  },
  "language_info": {
   "codemirror_mode": {
    "name": "ipython",
    "version": 3
   },
   "file_extension": ".py",
   "mimetype": "text/x-python",
   "name": "python",
   "nbconvert_exporter": "python",
   "pygments_lexer": "ipython3",
   "version": "3.8.8"
  }
 },
 "nbformat": 4,
 "nbformat_minor": 5
}
