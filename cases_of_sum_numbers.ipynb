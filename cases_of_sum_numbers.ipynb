{
 "cells": [
  {
   "cell_type": "code",
   "execution_count": 11,
   "metadata": {},
   "outputs": [
    {
     "name": "stdout",
     "output_type": "stream",
     "text": [
      "5\n"
     ]
    }
   ],
   "source": [
    "count = 0\n",
    "sum = 0\n",
    "\n",
    "def n_times_for(n, numbers, target):\n",
    "    global count, sum\n",
    "    for sign in [1, -1]:\n",
    "        sum += sign*numbers[n-1]\n",
    "        if n-1 > 0:\n",
    "            n_times_for(n-1, numbers, target)\n",
    "        else:\n",
    "            if sum == target:\n",
    "                count += 1\n",
    "        sum -= sign*numbers[n-1]\n",
    "    \n",
    "def solution(numbers, target):\n",
    "    global count, sum\n",
    "    n_times_for(len(numbers), numbers, target)\n",
    "    return count\n",
    "\n",
    "numbers = [1, 1, 1, 1, 1]\n",
    "target = 3\n",
    "print(solution(numbers, target))"
   ]
  },
  {
   "cell_type": "code",
   "execution_count": null,
   "metadata": {},
   "outputs": [],
   "source": [
    "a = 1 #\n",
    "graph = [1, 2]\n",
    "\n",
    "def dfs():\n",
    "    global a\n",
    "    a += 1 #\n",
    "    graph[0] += 1\n",
    "    graph[1] += 1\n",
    "    return graph[0] + graph[1]\n",
    "print(dfs())\n",
    "print(graph)\n",
    "print(a) #\n"
   ]
  },
  {
   "cell_type": "code",
   "execution_count": null,
   "metadata": {},
   "outputs": [],
   "source": [
    "\n",
    "# 다른 사람의 정석 풀이\n",
    "answer = 0\n",
    "def DFS(idx, numbers, target, value):\n",
    "    global answer\n",
    "    N = len(numbers)\n",
    "    if(idx== N and target == value):\n",
    "        answer += 1\n",
    "        return\n",
    "    if(idx == N):\n",
    "        return\n",
    "\n",
    "    DFS(idx+1,numbers,target,value+numbers[idx])\n",
    "    DFS(idx+1,numbers,target,value-numbers[idx])\n",
    "def solution(numbers, target):\n",
    "    global answer\n",
    "    DFS(0,numbers,target,0)\n",
    "    return answer"
   ]
  },
  {
   "cell_type": "code",
   "execution_count": null,
   "metadata": {},
   "outputs": [],
   "source": []
  }
 ],
 "metadata": {
  "interpreter": {
   "hash": "b3ba2566441a7c06988d0923437866b63cedc61552a5af99d1f4fb67d367b25f"
  },
  "kernelspec": {
   "display_name": "Python 3.8.8 64-bit ('base': conda)",
   "language": "python",
   "name": "python3"
  },
  "language_info": {
   "codemirror_mode": {
    "name": "ipython",
    "version": 3
   },
   "file_extension": ".py",
   "mimetype": "text/x-python",
   "name": "python",
   "nbconvert_exporter": "python",
   "pygments_lexer": "ipython3",
   "version": "3.8.8"
  },
  "orig_nbformat": 4
 },
 "nbformat": 4,
 "nbformat_minor": 2
}
