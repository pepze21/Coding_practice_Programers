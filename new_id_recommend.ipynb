{
 "cells": [
  {
   "cell_type": "code",
   "execution_count": 32,
   "metadata": {},
   "outputs": [
    {
     "name": "stdout",
     "output_type": "stream",
     "text": [
      "bat.y.abcdefghi\n",
      "aaa\n"
     ]
    }
   ],
   "source": [
    "# 17:55 풀이 20분, error fix 40분...\n",
    "def solution(new_id):\n",
    "    list = ['a', 'b', 'c', 'd', 'e', 'f', \\\n",
    "            'g', 'h', 'i', 'j', 'k', 'l', \\\n",
    "            'm', 'n', 'o', 'p', 'q', 'r', \\\n",
    "            's', 't', 'u', 'v', 'w', 'x', \\\n",
    "            'y', 'z', '0', '1', '2', '3', \\\n",
    "            '4', '5', '6', '7', '8', '9', \\\n",
    "            '-', '_', '.']\n",
    "    #1\n",
    "    temp = new_id.lower()\n",
    "    temp2 = ''\n",
    "    #2\n",
    "    for i in range(len(temp)):\n",
    "        if temp[i] in list:\n",
    "            temp2 += temp[i]\n",
    "    #3\n",
    "    for i in range(len(temp2)):\n",
    "        temp2 = temp2.replace('..', '.', 1)\n",
    "    #4\n",
    "    if temp2 != '':\n",
    "        if temp2[0] == '.':\n",
    "            temp2 = temp2[1:]\n",
    "    if temp2 != '':\n",
    "        if temp2[-1] == '.':\n",
    "            temp2 = temp2[:-1]\n",
    "    #5\n",
    "    if temp2 == '':\n",
    "        temp2 = 'a'\n",
    "    #6\n",
    "    if len(temp2) > 15:\n",
    "        temp2 = temp2[:15]\n",
    "    if temp2[-1] == '.':\n",
    "\n",
    "        temp2 = temp2[:-1]\n",
    "    #7\n",
    "    if len(temp2) < 3:\n",
    "        cnt = len(temp2)\n",
    "        while (cnt < 3):\n",
    "            temp2 = temp2 + temp2[-1]\n",
    "            cnt +=1\n",
    "    \n",
    "    answer = temp2\n",
    "    return answer\n",
    "print(solution('...!@BaT#*..y.abcdefghijklm'))\n",
    "print(solution(''))"
   ]
  },
  {
   "cell_type": "code",
   "execution_count": 4,
   "metadata": {},
   "outputs": [
    {
     "data": {
      "text/plain": [
       "0"
      ]
     },
     "execution_count": 4,
     "metadata": {},
     "output_type": "execute_result"
    }
   ],
   "source": [
    "import re\n",
    "st = ''\n",
    "re.sub('[^a-z0-9\\-_.]', '', st)"
   ]
  },
  {
   "cell_type": "code",
   "execution_count": 33,
   "metadata": {},
   "outputs": [
    {
     "name": "stdout",
     "output_type": "stream",
     "text": [
      "[1, 2, 3, 4]\n"
     ]
    }
   ],
   "source": [
    "a=[1, 2, 3]\n",
    "a.append(4)\n",
    "print(a)"
   ]
  },
  {
   "cell_type": "code",
   "execution_count": 39,
   "metadata": {},
   "outputs": [
    {
     "data": {
      "text/plain": [
       "1"
      ]
     },
     "execution_count": 39,
     "metadata": {},
     "output_type": "execute_result"
    }
   ],
   "source": [
    "int(1.0000000000000000000000)"
   ]
  },
  {
   "cell_type": "code",
   "execution_count": 42,
   "metadata": {},
   "outputs": [
    {
     "data": {
      "text/plain": [
       "1"
      ]
     },
     "execution_count": 42,
     "metadata": {},
     "output_type": "execute_result"
    }
   ],
   "source": [
    "list = ['aaa', 'aaa', 'bbb', 'ccc']\n",
    "list.count('ccc')"
   ]
  },
  {
   "cell_type": "code",
   "execution_count": null,
   "metadata": {},
   "outputs": [],
   "source": []
  }
 ],
 "metadata": {
  "interpreter": {
   "hash": "b3ba2566441a7c06988d0923437866b63cedc61552a5af99d1f4fb67d367b25f"
  },
  "kernelspec": {
   "display_name": "Python 3.8.8 64-bit ('base': conda)",
   "language": "python",
   "name": "python3"
  },
  "language_info": {
   "codemirror_mode": {
    "name": "ipython",
    "version": 3
   },
   "file_extension": ".py",
   "mimetype": "text/x-python",
   "name": "python",
   "nbconvert_exporter": "python",
   "pygments_lexer": "ipython3",
   "version": "3.8.8"
  },
  "orig_nbformat": 4
 },
 "nbformat": 4,
 "nbformat_minor": 2
}
