{
 "cells": [
  {
   "cell_type": "code",
   "execution_count": 3,
   "metadata": {},
   "outputs": [
    {
     "name": "stdout",
     "output_type": "stream",
     "text": [
      "1478\n"
     ]
    }
   ],
   "source": [
    "def solution(s):\n",
    "    s = s.replace('zero', '0')\n",
    "    s = s.replace('one', '1')\n",
    "    s = s.replace('two', '2')\n",
    "    s = s.replace('three', '3')\n",
    "    s = s.replace('four', '4')\n",
    "    s = s.replace('five', '5')\n",
    "    s = s.replace('six', '6')\n",
    "    s = s.replace('seven', '7')\n",
    "    s = s.replace('eight', '8')\n",
    "    s = s.replace('nine', '9')\n",
    "    return int(s)\n",
    "\n",
    "def main():\n",
    "  s = \"one4seveneight\"\n",
    "  print(solution(s))\n",
    "\n",
    "main()"
   ]
  }
 ],
 "metadata": {
  "interpreter": {
   "hash": "b3ba2566441a7c06988d0923437866b63cedc61552a5af99d1f4fb67d367b25f"
  },
  "kernelspec": {
   "display_name": "Python 3.8.8 ('base')",
   "language": "python",
   "name": "python3"
  },
  "language_info": {
   "codemirror_mode": {
    "name": "ipython",
    "version": 3
   },
   "file_extension": ".py",
   "mimetype": "text/x-python",
   "name": "python",
   "nbconvert_exporter": "python",
   "pygments_lexer": "ipython3",
   "version": "3.8.8"
  },
  "orig_nbformat": 4
 },
 "nbformat": 4,
 "nbformat_minor": 2
}
