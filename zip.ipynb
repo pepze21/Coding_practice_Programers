{
 "cells": [
  {
   "cell_type": "code",
   "execution_count": 20,
   "metadata": {},
   "outputs": [
    {
     "data": {
      "text/plain": [
       "8"
      ]
     },
     "execution_count": 20,
     "metadata": {},
     "output_type": "execute_result"
    }
   ],
   "source": [
    "# 19:16 해석6분 + 코딩24분 + 문제이해를잘못해서 다시품\n",
    "def solution(s):\n",
    "    min_length = 1000\n",
    "    for num in range(1, len(s) + 1):\n",
    "        div_list = []\n",
    "        s_temp = s\n",
    "        \n",
    "        while len(s_temp) > num:\n",
    "            div_list.append(s_temp[:num])\n",
    "            s_temp = s_temp.replace(s_temp[:num], '', 1)\n",
    "        div_list.append(s_temp)\n",
    "        \n",
    "        temp = ''\n",
    "        count = 1\n",
    "        s_zip = ''\n",
    "        for div in div_list:\n",
    "            if div != temp:\n",
    "                if count == 1:\n",
    "                    s_zip += temp\n",
    "                else:\n",
    "                    s_zip = s_zip + str(count) + temp\n",
    "                count = 1\n",
    "                temp = div\n",
    "            elif div == temp:\n",
    "                count += 1\n",
    "                temp = div\n",
    "        if count == 1:\n",
    "            s_zip = s_zip + div_list[-1]\n",
    "        else:\n",
    "            s_zip = s_zip + str(count) + div_list[-1]\n",
    "                   \n",
    "        min_length = min(len(s_zip), min_length, len(s))\n",
    "    \n",
    "    min_length\n",
    "    return min_length\n",
    "\n",
    "solution('abcabcdede')"
   ]
  },
  {
   "cell_type": "code",
   "execution_count": null,
   "metadata": {},
   "outputs": [],
   "source": []
  }
 ],
 "metadata": {
  "interpreter": {
   "hash": "b3ba2566441a7c06988d0923437866b63cedc61552a5af99d1f4fb67d367b25f"
  },
  "kernelspec": {
   "display_name": "Python 3",
   "language": "python",
   "name": "python3"
  },
  "language_info": {
   "codemirror_mode": {
    "name": "ipython",
    "version": 3
   },
   "file_extension": ".py",
   "mimetype": "text/x-python",
   "name": "python",
   "nbconvert_exporter": "python",
   "pygments_lexer": "ipython3",
   "version": "3.8.8"
  }
 },
 "nbformat": 4,
 "nbformat_minor": 2
}
