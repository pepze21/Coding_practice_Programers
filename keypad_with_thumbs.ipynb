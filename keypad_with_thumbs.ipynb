{
 "cells": [
  {
   "cell_type": "code",
   "execution_count": 1,
   "metadata": {},
   "outputs": [
    {
     "name": "stdout",
     "output_type": "stream",
     "text": [
      "LRLLRRLLLRR\n"
     ]
    }
   ],
   "source": [
    "# 4 by 3 matrix\n",
    "# [0, 0] ~ [3, 2]\n",
    "# [['1', '2', '3'],\n",
    "#  ['4', '5', '6'],\n",
    "#  ['7', '8', '9'],\n",
    "#  ['*', '0', '#']]\n",
    "\n",
    "def distance(point1, point2):\n",
    "    return abs(point1[0] - point2[0]) + abs(point1[1] - point2[1])\n",
    "\n",
    "def solution(numbers, hand):\n",
    "    answer = ''\n",
    "    left_thumb = [3, 0]\n",
    "    right_thumb = [3, 2]\n",
    "    \n",
    "    for number in numbers:\n",
    "        if (number == 0):\n",
    "            # 변환하는이유 : 2, 5, 8, 11 이어야 3으로 나눈 나머지가 2로 일정\n",
    "            # 만약에 numbers의 element로 '*' 과 '#'이 담길 수 있는 문제였다면\n",
    "            # 각각 10, 12로 변환했을 것임\n",
    "            number = 11 \n",
    "        if (number % 3 == 1):\n",
    "            answer += 'L'\n",
    "            left_thumb = [number//3, 0]\n",
    "        elif (number % 3 == 0):\n",
    "            answer += 'R'\n",
    "            right_thumb = [number//3 - 1, 2]\n",
    "        else:\n",
    "            dl = distance(left_thumb, [number//3, 1])\n",
    "            dr = distance(right_thumb, [number//3, 1])\n",
    "            if (dl < dr):\n",
    "                answer += 'L'\n",
    "                left_thumb = [number//3, 1]\n",
    "            elif (dl > dr):\n",
    "                answer += 'R'\n",
    "                right_thumb = [number//3, 1]\n",
    "            else:\n",
    "                if (hand == 'left'):\n",
    "                    answer += 'L'\n",
    "                    left_thumb = [number//3, 1]\n",
    "                else:\n",
    "                    answer += 'R'\n",
    "                    right_thumb = [number//3, 1]\n",
    "    return answer\n",
    "\n",
    "def main():\n",
    "  print(solution([7, 0, 8, 2, 8, 3, 1, 5, 7, 6, 2], \"left\"))\n",
    "\n",
    "main()\n"
   ]
  }
 ],
 "metadata": {
  "interpreter": {
   "hash": "b3ba2566441a7c06988d0923437866b63cedc61552a5af99d1f4fb67d367b25f"
  },
  "kernelspec": {
   "display_name": "Python 3.8.8 ('base')",
   "language": "python",
   "name": "python3"
  },
  "language_info": {
   "codemirror_mode": {
    "name": "ipython",
    "version": 3
   },
   "file_extension": ".py",
   "mimetype": "text/x-python",
   "name": "python",
   "nbconvert_exporter": "python",
   "pygments_lexer": "ipython3",
   "version": "3.8.8"
  },
  "orig_nbformat": 4
 },
 "nbformat": 4,
 "nbformat_minor": 2
}
