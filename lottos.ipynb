{
 "cells": [
  {
   "cell_type": "code",
   "execution_count": null,
   "metadata": {},
   "outputs": [],
   "source": [
    "# 17분\n",
    "# lottos : 찍은번호 (0~45 번호가 기록된 list, 0은 빈칸)\n",
    "# win_nums : 당첨번호 (1~45 list)\n",
    "# 각각 맞춘갯수 65432 -> 등수 12345 (0개 1개는 둘다 6등으로 처리)\n",
    "# return [최고 순위(많이맞춤), 최저 순위(적게맞춤)]\n",
    "\n",
    "def solution(lottos, win_nums):\n",
    "    win_cnt = 0\n",
    "    zero_cnt = 0\n",
    "    for num in lottos:\n",
    "        if num in win_nums:\n",
    "            win_cnt += 1\n",
    "        elif num == 0:\n",
    "            zero_cnt += 1\n",
    "    return [min(7 - win_cnt - zero_cnt, 6), min(7 - win_cnt, 6)]"
   ]
  }
 ],
 "metadata": {
  "language_info": {
   "name": "python"
  },
  "orig_nbformat": 4
 },
 "nbformat": 4,
 "nbformat_minor": 2
}
